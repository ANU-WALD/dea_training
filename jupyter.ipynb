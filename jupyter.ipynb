{
 "cells": [
  {
   "cell_type": "code",
   "execution_count": 37,
   "metadata": {},
   "outputs": [],
   "source": [
    "%matplotlib inline\n",
    "\n",
    "import numpy as np\n",
    "import matplotlib.pyplot as plt\n",
    "import math\n",
    "import imageio\n",
    "from pyproj import Proj, transform\n",
    "import time\n",
    "\n",
    "sinu_proj = \"+proj=sinu +lon_0=0 +x_0=0 +y_0=0 +a=6371007.181 +b=6371007.181 +units=m +no_defs \"\n",
    "#wgs84_proj = \"+proj=longlat +ellps=WGS84 +datum=WGS84 +no_defs \"\n",
    "wgs84_proj = \"epsg:4326\"\n",
    "webmerc_proj = \"+proj=merc +a=6378137 +b=6378137 +lat_ts=0.0 +lon_0=0.0 +x_0=0.0 +y_0=0 +k=1.0 +units=m +nadgrids=@null +wktext  +no_defs \"\n",
    "\n",
    "modis_pixel_size = (463.312716527916507, 463.312716527916677)\n",
    "modis_tile = \"MCD43A4.A2018001.h%02dv%02d.006_b%d_16\""
   ]
  },
  {
   "cell_type": "code",
   "execution_count": 42,
   "metadata": {},
   "outputs": [],
   "source": [
    "\n",
    "def ij2xy(origin, i, j):\n",
    "    x = origin[0] + i * pixel_size[0]\n",
    "    y = origin[1] + j * pixel_size[1]\n",
    "    \n",
    "    return x, y\n",
    "\n",
    "\"\"\"\n",
    "inProj = Proj(sinu_proj)\n",
    "outProj = Proj(wgs84_proj)\n",
    "lon, lat = transform(inProj,outProj,x,y)\n",
    "print(lon, lat)\n",
    "\"\"\"\n",
    "    \n",
    "def xy2ij(origin, x, y):\n",
    "    i = round((x - origin[0]) / pixel_size[0])\n",
    "    j = round((y - origin[1]) / pixel_size[1])\n",
    "    \n",
    "    return i, j\n",
    "    \n",
    "    \n",
    "def get_partial_tile(bbox, b, h, v, im_size=256, proj=wgs84_proj):\n",
    "    # bbox contains [min_lon, min_lat, max_lon, max_lat]\n",
    "    pixel_size = (bbox[2] - bbox[0]) / im_size\n",
    "    #size = int((bbox[2] - bbox[0]) / pixel_size)\n",
    "    arr = np.ones((im_size,im_size), dtype=np.float32) * np.nan\n",
    "    \n",
    "    start = time.time()\n",
    "    lons = []\n",
    "    lats = []\n",
    "    for j, lat in enumerate(np.arange(bbox[3], bbox[1], -pixel_size)):\n",
    "        for i, lon in enumerate(np.arange(bbox[0], bbox[2], pixel_size)):\n",
    "            lons.append(lon)\n",
    "            lats.append(lat)\n",
    "    \n",
    "    inProj = Proj(init=proj)\n",
    "    outProj = Proj(sinu_proj)\n",
    "    xs, ys = transform(inProj, outProj, lons, lats)\n",
    "    print(\"Transform coordinates\", time.time() - start)\n",
    "    \n",
    "    start = time.time()\n",
    "    im = imageio.imread(modis_tile % (h, v, b))\n",
    "    print(\"Opening file\", time.time() - start)\n",
    "    \n",
    "    start = time.time()\n",
    "    origin = ((h-18)*(modis_pixel_size[0]*2400), (9-v)*(modis_pixel_size[1]*2400))\n",
    "    for j in range(im_size):\n",
    "        for i in range(im_size):\n",
    "            oi, oj = xy2ij(origin, xs[j*im_size+i], ys[j*im_size+i])\n",
    "\n",
    "            if oi > 2399 or oj > 2399:\n",
    "                arr[j,i] = 41248\n",
    "                continue\n",
    "            if oi < 0 or oj < 0:\n",
    "                arr[j,i] = 41248\n",
    "                continue\n",
    "            arr[j,i] = im[oj,oi]  \n",
    "    print(\"Reprojecting\", time.time() - start)\n",
    "            \n",
    "    return arr\n"
   ]
  },
  {
   "cell_type": "code",
   "execution_count": 43,
   "metadata": {},
   "outputs": [
    {
     "name": "stdout",
     "output_type": "stream",
     "text": [
      "Transform coordinates 0.003968000411987305\n",
      "Opening file 0.07434797286987305\n",
      "Reprojecting 0.012603998184204102\n",
      "Transform coordinates 0.0030062198638916016\n",
      "Opening file 0.05810403823852539\n",
      "Reprojecting 0.012112140655517578\n",
      "Transform coordinates 0.003020763397216797\n",
      "Opening file 0.09033322334289551\n",
      "Reprojecting 0.013355016708374023\n",
      "Transform coordinates 0.0032477378845214844\n",
      "Opening file 0.061387062072753906\n",
      "Reprojecting 0.01222991943359375\n",
      "Transform coordinates 0.0030171871185302734\n",
      "Opening file 0.06857824325561523\n",
      "Reprojecting 0.01243281364440918\n",
      "Transform coordinates 0.004164218902587891\n",
      "Opening file 0.06444692611694336\n",
      "Reprojecting 0.012106895446777344\n",
      "Transform coordinates 0.0031490325927734375\n",
      "Opening file 0.09938907623291016\n",
      "Reprojecting 0.01381993293762207\n",
      "Transform coordinates 0.0032958984375\n",
      "Opening file 0.06841516494750977\n",
      "Reprojecting 0.01347208023071289\n"
     ]
    },
    {
     "data": {
      "text/plain": [
       "<matplotlib.image.AxesImage at 0x11b28eeb8>"
      ]
     },
     "execution_count": 43,
     "metadata": {},
     "output_type": "execute_result"
    },
    {
     "data": {
      "image/png": "[encoded data removed]",
      "text/plain": [
       "<Figure size 432x288 with 1 Axes>"
      ]
     },
     "metadata": {},
     "output_type": "display_data"
    }
   ],
   "source": [
    "\n",
    "\n",
    "def bbox2tile(bbox, band, im_size, proj):\n",
    "    pixel_size = (bbox[2] - bbox[0]) / im_size\n",
    "    modis_x_extent = modis_pixel_size[0]*2400\n",
    "    modis_y_extent = modis_pixel_size[1]*2400\n",
    "    inProj = Proj(init=proj)\n",
    "    outProj = Proj(sinu_proj)\n",
    " \n",
    "    x_tl, y_tl = transform(inProj, outProj, bbox[0], bbox[3])\n",
    "    x_br, y_br = transform(inProj, outProj, bbox[2], bbox[1])\n",
    "    \n",
    "    max_h = int(math.floor(x_tl/modis_x_extent)) + 18\n",
    "    min_h = int(math.floor(x_br/modis_x_extent)) + 18\n",
    "    min_v = -1*int(math.ceil(y_tl/modis_y_extent)) + 9\n",
    "    max_v = -1*int(math.ceil(y_br/modis_y_extent)) + 9\n",
    "    \n",
    "    arr = None\n",
    "    for h in range(min_h, max_h+1):\n",
    "        for v in range(min_v, max_v+1):\n",
    "            a = get_partial_tile(bbox, band, h, v, im_size, proj)#.astype(np.float32)\n",
    "            a[a == 41248] = np.nan\n",
    "            if arr is None:\n",
    "                arr = a\n",
    "                continue\n",
    "                \n",
    "            #arr += a\n",
    "            arr = np.nansum(np.dstack((arr,a)),2)\n",
    "    \n",
    "    return arr\n",
    "\n",
    "b1 = bbox2tile([130., -40., 140., -30], 1, 100, wgs84_proj)\n",
    "#plt.imshow(b1, cmap='RdYlGn')\n",
    "b2 = bbox2tile([130., -40., 140., -30], 2, 100, wgs84_proj)\n",
    "plt.imshow(b2, cmap='RdYlGn')\n",
    "#plt.imshow(np.clip((b1-b2)/(b1+b2), 0, 1), cmap= 'RdYlGn')"
   ]
  },
  {
   "cell_type": "code",
   "execution_count": 41,
   "metadata": {},
   "outputs": [
    {
     "ename": "NameError",
     "evalue": "name 'get_tile' is not defined",
     "output_type": "error",
     "traceback": [
      "\u001b[0;31m---------------------------------------------------------------------------\u001b[0m",
      "\u001b[0;31mNameError\u001b[0m                                 Traceback (most recent call last)",
      "\u001b[0;32m<ipython-input-41-776b1e021027>\u001b[0m in \u001b[0;36m<module>\u001b[0;34m()\u001b[0m\n\u001b[0;32m----> 1\u001b[0;31m \u001b[0mget_tile\u001b[0m\u001b[0;34m(\u001b[0m\u001b[0;34m[\u001b[0m\u001b[0;36m130.\u001b[0m\u001b[0;34m,\u001b[0m \u001b[0;34m-\u001b[0m\u001b[0;36m40.\u001b[0m\u001b[0;34m,\u001b[0m \u001b[0;36m140.\u001b[0m\u001b[0;34m,\u001b[0m \u001b[0;34m-\u001b[0m\u001b[0;36m30\u001b[0m\u001b[0;34m]\u001b[0m\u001b[0;34m,\u001b[0m \u001b[0;36m29\u001b[0m\u001b[0;34m,\u001b[0m \u001b[0;36m12\u001b[0m\u001b[0;34m,\u001b[0m \u001b[0;36m0.1\u001b[0m\u001b[0;34m)\u001b[0m\u001b[0;34m\u001b[0m\u001b[0;34m\u001b[0m\u001b[0m\n\u001b[0m",
      "\u001b[0;31mNameError\u001b[0m: name 'get_tile' is not defined"
     ]
    }
   ],
   "source": [
    "get_tile([130., -40., 140., -30], 29, 12, 0.1)"
   ]
  },
  {
   "cell_type": "code",
   "execution_count": null,
   "metadata": {},
   "outputs": [],
   "source": []
  }
 ],
 "metadata": {
  "kernelspec": {
   "display_name": "Python 3",
   "language": "python",
   "name": "python3"
  },
  "language_info": {
   "codemirror_mode": {
    "name": "ipython",
    "version": 3
   },
   "file_extension": ".py",
   "mimetype": "text/x-python",
   "name": "python",
   "nbconvert_exporter": "python",
   "pygments_lexer": "ipython3",
   "version": "3.6.7"
  }
 },
 "nbformat": 4,
 "nbformat_minor": 2
}
