{
 "cells": [
  {
   "cell_type": "markdown",
   "metadata": {},
   "source": [
    "## Curlew Sandpipers at the Menindee lakes\n",
    "\n",
    "The Menindee Lakes is a chain of shallow ephemeral freshwater lakes connected to the Darling River to form a storage system. The lakes lie in the far west region of New South Wales, Australia, near the town of Menindee."
   ]
  },
  {
   "cell_type": "markdown",
   "metadata": {},
   "source": [
    "<img src=\"data/Menindee_Satellite.png\" alt=\"drawing\" width=\"400\" align=\"left\"/>"
   ]
  },
  {
   "cell_type": "markdown",
   "metadata": {},
   "source": [
    "In the past few years, the Darling River System along with the Menindee Lakes have been severely impacted by extreme drought conditions. This has resulted in particularly low and prolonged storage inflows, lower storage releases, and high evaporation rates. [Source: MDBA](https://www.mdba.gov.au/river-murray-system/running-river-murray/menindee-lakes-facts)\n",
    "\n",
    "The Menindee Lakes are an integral breeding ground for the hundreds bird, fish and reptile species in the Murray-Darling Basin, one of the richest ecologies in the country."
   ]
  },
  {
   "cell_type": "markdown",
   "metadata": {},
   "source": [
    "Lake Menindee has completely dried up several times in the past few years. (Source: ABC News)\n",
    "\n",
    "<img src=\"data/menindee_drought.jpg\" alt=\"drawing\" width=\"400\" align=\"left\"/>"
   ]
  },
  {
   "cell_type": "markdown",
   "metadata": {},
   "source": [
    "### Your task:\n",
    "\n",
    "You are an ecologist working for Wildaroo, a non-for-profit organisation that protects endangered species across Australia. You have been tasked to come up with an action plan to protect the Curlew Sandpipers, a species of bird commonly found in the Menindee lakes. The number of spotted birds has been declining in recent years due to the lack of water, and Wildaroo wants to start an intervention to increase the numbers of Sandpipers in the area.\n",
    "\n",
    "Your mission is to identify the areas are most affected by drought and decide the best locations where your organisation should deploy birdfeeders to support the existing population. The ideal place should be close to wet areas, which is the natural habitat of Curlew Sandpipers."
   ]
  },
  {
   "cell_type": "markdown",
   "metadata": {},
   "source": [
    "### Load packages\n",
    "\n",
    "You start by loading the usual Python libraries to start working on this project."
   ]
  },
  {
   "cell_type": "code",
   "execution_count": 2,
   "metadata": {},
   "outputs": [],
   "source": [
    "%matplotlib inline\n",
    "\n",
    "import datacube\n",
    "\n",
    "import matplotlib.pyplot as plt\n",
    "import numpy as np\n",
    "import xarray as xr"
   ]
  },
  {
   "cell_type": "markdown",
   "metadata": {},
   "source": [
    "### Load data\n",
    "\n",
    "You request Water Observations from Space (WOfS) data for the first 6 months of the year."
   ]
  },
  {
   "cell_type": "code",
   "execution_count": 3,
   "metadata": {},
   "outputs": [
    {
     "data": {
      "text/plain": [
       "<xarray.Dataset>\n",
       "Dimensions:  (time: 72, x: 1225, y: 1428)\n",
       "Coordinates:\n",
       "  * time     (time) datetime64[ns] 2019-01-01T00:20:16 ... 2019-06-01T00:26:42\n",
       "  * y        (y) float64 -3.553e+06 -3.553e+06 ... -3.589e+06 -3.589e+06\n",
       "  * x        (x) float64 9.447e+05 9.447e+05 9.448e+05 ... 9.753e+05 9.753e+05\n",
       "Data variables:\n",
       "    water    (time, y, x) int16 0 0 0 0 0 0 0 0 ... 239 239 239 239 239 239 239\n",
       "Attributes:\n",
       "    crs:      EPSG:3577"
      ]
     },
     "execution_count": 3,
     "metadata": {},
     "output_type": "execute_result"
    }
   ],
   "source": [
    "dc_menindee = datacube.Datacube(app=\"Menindee_Lakes\")\n",
    "\n",
    "query = {'lat': (-32.55, -32.25),\n",
    "         'lon': (142.15, 142.45),\n",
    "         'time':('2019-01-01', '2019-06-01')}\n",
    "\n",
    "\n",
    "menindee_19 = dc_menindee.load(product='wofs_albers', **query)\n",
    "\n",
    "menindee_19"
   ]
  },
  {
   "cell_type": "markdown",
   "metadata": {},
   "source": [
    "### Interpreting WOfS\n",
    "\n",
    "You want to understand what values are contained in this dataset and use `unique`, a numpy function that returns the unique values contained in an array:"
   ]
  },
  {
   "cell_type": "code",
   "execution_count": 4,
   "metadata": {},
   "outputs": [
    {
     "data": {
      "text/plain": [
       "array([  0,   2,   8,  10,  32,  34,  40,  42,  64,  66,  72,  74,  96,\n",
       "        98, 104, 106, 128, 130, 131, 136, 138, 139, 160, 162, 163, 168,\n",
       "       170, 171, 192, 194, 195, 200, 202, 203, 224, 226, 227, 231, 232,\n",
       "       234, 235, 239], dtype=int16)"
      ]
     },
     "execution_count": 4,
     "metadata": {},
     "output_type": "execute_result"
    }
   ],
   "source": [
    "np.unique(menindee_19.water.data)"
   ]
  },
  {
   "cell_type": "markdown",
   "metadata": {},
   "source": [
    "There is a special function in DEA that displays the interpretation of mask bitflags in collection. So, you import the required library from the Datacube."
   ]
  },
  {
   "cell_type": "code",
   "execution_count": 5,
   "metadata": {},
   "outputs": [
    {
     "data": {
      "text/html": [
       "<div>\n",
       "<style scoped>\n",
       "    .dataframe tbody tr th:only-of-type {\n",
       "        vertical-align: middle;\n",
       "    }\n",
       "\n",
       "    .dataframe tbody tr th {\n",
       "        vertical-align: top;\n",
       "    }\n",
       "\n",
       "    .dataframe thead th {\n",
       "        text-align: right;\n",
       "    }\n",
       "</style>\n",
       "<table border=\"1\" class=\"dataframe\">\n",
       "  <thead>\n",
       "    <tr style=\"text-align: right;\">\n",
       "      <th></th>\n",
       "      <th>bits</th>\n",
       "      <th>values</th>\n",
       "      <th>description</th>\n",
       "    </tr>\n",
       "  </thead>\n",
       "  <tbody>\n",
       "    <tr>\n",
       "      <th>cloud</th>\n",
       "      <td>6</td>\n",
       "      <td>{'0': False, '1': True}</td>\n",
       "      <td>Cloudy</td>\n",
       "    </tr>\n",
       "    <tr>\n",
       "      <th>cloud_shadow</th>\n",
       "      <td>5</td>\n",
       "      <td>{'0': False, '1': True}</td>\n",
       "      <td>Cloud shadow</td>\n",
       "    </tr>\n",
       "    <tr>\n",
       "      <th>dry</th>\n",
       "      <td>[7, 6, 5, 4, 3, 1, 0]</td>\n",
       "      <td>{'0': True}</td>\n",
       "      <td>No water detected</td>\n",
       "    </tr>\n",
       "    <tr>\n",
       "      <th>high_slope</th>\n",
       "      <td>4</td>\n",
       "      <td>{'0': False, '1': True}</td>\n",
       "      <td>High slope</td>\n",
       "    </tr>\n",
       "    <tr>\n",
       "      <th>nodata</th>\n",
       "      <td>0</td>\n",
       "      <td>{'0': False, '1': True}</td>\n",
       "      <td>No data</td>\n",
       "    </tr>\n",
       "    <tr>\n",
       "      <th>noncontiguous</th>\n",
       "      <td>1</td>\n",
       "      <td>{'0': False, '1': True}</td>\n",
       "      <td>At least one EO band is missing over over/unde...</td>\n",
       "    </tr>\n",
       "    <tr>\n",
       "      <th>sea</th>\n",
       "      <td>2</td>\n",
       "      <td>{'0': False, '1': True}</td>\n",
       "      <td>Sea</td>\n",
       "    </tr>\n",
       "    <tr>\n",
       "      <th>terrain_or_low_angle</th>\n",
       "      <td>3</td>\n",
       "      <td>{'0': False, '1': True}</td>\n",
       "      <td>terrain shadow or low solar angle</td>\n",
       "    </tr>\n",
       "    <tr>\n",
       "      <th>wet</th>\n",
       "      <td>[7, 6, 5, 4, 3, 1, 0]</td>\n",
       "      <td>{'128': True}</td>\n",
       "      <td>Clear and Wet</td>\n",
       "    </tr>\n",
       "  </tbody>\n",
       "</table>\n",
       "</div>"
      ],
      "text/plain": [
       "                                       bits                   values  \\\n",
       "cloud                                     6  {'0': False, '1': True}   \n",
       "cloud_shadow                              5  {'0': False, '1': True}   \n",
       "dry                   [7, 6, 5, 4, 3, 1, 0]              {'0': True}   \n",
       "high_slope                                4  {'0': False, '1': True}   \n",
       "nodata                                    0  {'0': False, '1': True}   \n",
       "noncontiguous                             1  {'0': False, '1': True}   \n",
       "sea                                       2  {'0': False, '1': True}   \n",
       "terrain_or_low_angle                      3  {'0': False, '1': True}   \n",
       "wet                   [7, 6, 5, 4, 3, 1, 0]            {'128': True}   \n",
       "\n",
       "                                                            description  \n",
       "cloud                                                            Cloudy  \n",
       "cloud_shadow                                               Cloud shadow  \n",
       "dry                                                   No water detected  \n",
       "high_slope                                                   High slope  \n",
       "nodata                                                          No data  \n",
       "noncontiguous         At least one EO band is missing over over/unde...  \n",
       "sea                                                                 Sea  \n",
       "terrain_or_low_angle                  terrain shadow or low solar angle  \n",
       "wet                                                       Clear and Wet  "
      ]
     },
     "execution_count": 5,
     "metadata": {},
     "output_type": "execute_result"
    }
   ],
   "source": [
    "from datacube.storage import masking\n",
    "\n",
    "masking.describe_variable_flags(menindee_19, with_pandas=True)"
   ]
  },
  {
   "cell_type": "markdown",
   "metadata": {},
   "source": [
    "### Creating the mask and computing the median water content\n",
    "\n",
    "Wet areas are represented using the value `128`, as oposed to dry areas which are represented with the `0` value. You represent the median water content over the first 6 months."
   ]
  },
  {
   "cell_type": "code",
   "execution_count": 6,
   "metadata": {},
   "outputs": [
    {
     "name": "stderr",
     "output_type": "stream",
     "text": [
      "/usr/local/lib/python3.6/dist-packages/numpy/lib/function_base.py:3405: RuntimeWarning: All-NaN slice encountered\n",
      "  r = func(a, **kwargs)\n"
     ]
    },
    {
     "data": {
      "text/plain": [
       "<matplotlib.collections.QuadMesh at 0x7f990f8c3080>"
      ]
     },
     "execution_count": 6,
     "metadata": {},
     "output_type": "execute_result"
    },
    {
     "data": {
      "image/png": "[encoded data removed]",
      "text/plain": [
       "<Figure size 432x288 with 2 Axes>"
      ]
     },
     "metadata": {
      "needs_background": "light"
     },
     "output_type": "display_data"
    }
   ],
   "source": [
    "m2019 = menindee_19.water.where(menindee_19.water == 128).median(dim='time')\n",
    "m2019.plot()"
   ]
  },
  {
   "cell_type": "markdown",
   "metadata": {},
   "source": [
    "### Replicate for 2001"
   ]
  },
  {
   "cell_type": "code",
   "execution_count": 7,
   "metadata": {},
   "outputs": [
    {
     "data": {
      "text/plain": [
       "<xarray.Dataset>\n",
       "Dimensions:  (time: 32, x: 1225, y: 1428)\n",
       "Coordinates:\n",
       "  * time     (time) datetime64[ns] 2001-01-07T00:10:49.500000 ... 2001-05-31T00:10:32.500000\n",
       "  * y        (y) float64 -3.553e+06 -3.553e+06 ... -3.589e+06 -3.589e+06\n",
       "  * x        (x) float64 9.447e+05 9.447e+05 9.448e+05 ... 9.753e+05 9.753e+05\n",
       "Data variables:\n",
       "    water    (time, y, x) int16 0 0 0 0 0 0 0 0 0 ... 72 72 72 72 72 72 72 72 72\n",
       "Attributes:\n",
       "    crs:      EPSG:3577"
      ]
     },
     "execution_count": 7,
     "metadata": {},
     "output_type": "execute_result"
    }
   ],
   "source": [
    "query = {'lat': (-32.55, -32.25),\n",
    "         'lon': (142.15, 142.45),\n",
    "         'time':('2001-01-01', '2001-06-01')}\n",
    "\n",
    "\n",
    "menindee_01 = dc_menindee.load(product='wofs_albers', **query)\n",
    "\n",
    "menindee_01"
   ]
  },
  {
   "cell_type": "code",
   "execution_count": 8,
   "metadata": {},
   "outputs": [
    {
     "name": "stderr",
     "output_type": "stream",
     "text": [
      "/usr/local/lib/python3.6/dist-packages/numpy/lib/function_base.py:3405: RuntimeWarning: All-NaN slice encountered\n",
      "  r = func(a, **kwargs)\n"
     ]
    },
    {
     "data": {
      "text/plain": [
       "<matplotlib.collections.QuadMesh at 0x7f98f69dc9e8>"
      ]
     },
     "execution_count": 8,
     "metadata": {},
     "output_type": "execute_result"
    },
    {
     "data": {
      "image/png": "[encoded data removed]",
      "text/plain": [
       "<Figure size 432x288 with 2 Axes>"
      ]
     },
     "metadata": {
      "needs_background": "light"
     },
     "output_type": "display_data"
    }
   ],
   "source": [
    "m2001 = menindee_01.water.where(menindee_01.water == 128).median(dim='time')\n",
    "m2001.plot()"
   ]
  },
  {
   "cell_type": "markdown",
   "metadata": {},
   "source": [
    "### Representing changes in water using a Semaphore plot\n",
    "\n",
    "You want to create a plot to represent changes in the water between the years 2001 and 2019. The plot maps the intersection of water areas of both years with the following mapping:\n",
    "\n",
    "* If a pixel  contains water in both years -> Blue\n",
    "* If a pixel had water before but doesn't have now -> Red (water lost)\n",
    "* If a pixel didn't have water but has water now -> Green (new water)\n",
    "* If a pixel never had water -> Transparent (RGB supports a 4th channel called Alpha for transparency)\n",
    "\n",
    "_Hint: This is an example of what a semaphore plot looks like for the years 2016-2019 at this location:_\n",
    "<img src=\"data/semaphore.png\" alt=\"drawing\" width=\"400\"/>\n",
    "\n",
    "### Coding the semaphore plot\n",
    "\n",
    "For creating this plot you'll need to:\n",
    "\n",
    "1. Transform `m2001` and `m2019` to boolean types (water/dry) using a threshold.\n",
    "2. Use numpy logical functions to compute the boolean values of the different components Red, Green Blue, Alpha. _int: use `np.logical_not()` and `np.logical_and()` to compute the components.\n",
    "3. Stack the components along a 3rd dimension making use of `np.dstack`\n",
    "4. Convert the resulting array into `float64` type\n",
    "5. Plot using matplotlib"
   ]
  },
  {
   "cell_type": "code",
   "execution_count": 9,
   "metadata": {},
   "outputs": [
    {
     "name": "stdout",
     "output_type": "stream",
     "text": [
      "(1428, 1225) bool\n",
      "(1428, 1225) bool\n",
      "(1428, 1225) bool\n",
      "(1428, 1225, 4)\n"
     ]
    },
    {
     "data": {
      "text/plain": [
       "<matplotlib.image.AxesImage at 0x7f98f6a53668>"
      ]
     },
     "execution_count": 9,
     "metadata": {},
     "output_type": "execute_result"
    },
    {
     "data": {
      "image/png": "[encoded data removed]",
      "text/plain": [
       "<Figure size 432x288 with 1 Axes>"
      ]
     },
     "metadata": {
      "needs_background": "light"
     },
     "output_type": "display_data"
    }
   ],
   "source": [
    "#Solution\n",
    "\n",
    "mask_2001 = (m2001>100)\n",
    "mask_2019 = (m2019>100)\n",
    "\n",
    "print(mask_2001.shape, mask_2001.dtype)\n",
    "print(mask_2019.shape, mask_2019.dtype)\n",
    "\n",
    "\n",
    "b = mask_2019 & mask_2001\n",
    "print(b.shape, b.dtype)\n",
    "g = mask_2019 & np.logical_not(mask_2001)\n",
    "r = np.logical_not(mask_2019) & mask_2001\n",
    "a = np.logical_not(np.logical_not(mask_2019) & np.logical_not(mask_2001))\n",
    "\n",
    "rgba = np.dstack((r,g,b,a)).astype(np.float64)\n",
    "print(rgba.shape)\n",
    "\n",
    "\n",
    "plt.imshow(rgba)"
   ]
  },
  {
   "cell_type": "markdown",
   "metadata": {},
   "source": [
    "### Interpreting the result\n",
    "\n",
    "This figure is quite striking and gives you an idea about why the Curlew Sandpipers population has such low numbers in recent years. However, you would like to do some more comparisons with more recent years at different seasons to understand the variability and representativeness of the current situation. "
   ]
  },
  {
   "cell_type": "code",
   "execution_count": null,
   "metadata": {},
   "outputs": [],
   "source": []
  },
  {
   "cell_type": "code",
   "execution_count": null,
   "metadata": {},
   "outputs": [],
   "source": []
  }
 ],
 "metadata": {
  "kernelspec": {
   "display_name": "Python 3",
   "language": "python",
   "name": "python3"
  },
  "language_info": {
   "codemirror_mode": {
    "name": "ipython",
    "version": 3
   },
   "file_extension": ".py",
   "mimetype": "text/x-python",
   "name": "python",
   "nbconvert_exporter": "python",
   "pygments_lexer": "ipython3",
   "version": "3.6.8"
  }
 },
 "nbformat": 4,
 "nbformat_minor": 4
}
